{
 "cells": [
  {
   "cell_type": "markdown",
   "metadata": {},
   "source": [
    "# <center> TP n°1 - Filtrage adapté avec Python </center>\n",
    "\n",
    "<!-- Image dans le même répertoire ![emetteur N mod complexe](images/image_notebook.png) -->\n",
    "\n",
    "<img src=\"https://lh3.googleusercontent.com/d/1lRRAjt4RNj0H38nlSAcgGJCLyddyy09G\" align=center width=\"600\"> \n",
    "\n",
    "Ce TP présente le filtrage adapté qui permet d'obtenir le plus faible taux d'erreur binaire sur le récepteur dans le cas où le signal est bruité avec un bruit blanc gaussien. On effectuera une comparaison avec un récepteur sans filtre ou avec filtrage passe-bas classique."
   ]
  },
  {
   "cell_type": "markdown",
   "metadata": {},
   "source": [
    "## Import des modules"
   ]
  },
  {
   "cell_type": "code",
   "execution_count": 172,
   "metadata": {},
   "outputs": [],
   "source": [
    "from commNum import Modem\n",
    "from commNum import Mesure\n",
    "from commNum import Source\n",
    "from commNum import Canal\n",
    "import numpy as np\n",
    "import matplotlib.pyplot as plt\n",
    "import scipy.signal"
   ]
  },
  {
   "cell_type": "markdown",
   "metadata": {},
   "source": [
    "## Ré-import d'une classe du module commNum en cas de modification\n",
    "\n",
    "Si vous modifiez une classe du module commNum il faut la ré-importer. Par exemple si on a modifié la classe *Source*, il faudra relancer la cellule ci-dessous en commencant par ré-importer une autre classe par exemple *Mesure*, puis relancer un deuxième fois la cellule mais pour la classe *Source*. \n",
    "\n",
    "Pour être sûr que le ré-import s'est bien effectué, n'hesitez pas à mettre un print d'une chaîne de caractères différente à chaque ré-import dans votre classe."
   ]
  },
  {
   "cell_type": "code",
   "execution_count": null,
   "metadata": {},
   "outputs": [],
   "source": [
    "import commNum;from commNum import Source\n",
    "importlib.reload(commNum)"
   ]
  },
  {
   "cell_type": "markdown",
   "metadata": {},
   "source": [
    "<div class=\"alert alert-block alert-success\">\n",
    "        \n",
    "## I. Etude du récepteur à filtre adapté/corrélateur pour une modulation PAM4\n",
    "    \n",
    "</div>"
   ]
  },
  {
   "cell_type": "markdown",
   "metadata": {},
   "source": [
    "<div class=\"alert alert-block alert-info bilan\">\n",
    "\n",
    "### 1. Emetteur et canal AWGN\n",
    "\n",
    "A l'aide du module commNum, créer un émetteur PAM4 transmettant un signal dans un canal AWGN avec les caractéristiques suivantes :  \n",
    "    \n",
    "    \n",
    "- source : 1000 bits aléatoires  \n",
    "- 4 symboles de modulation répartis entre 3 et -3  \n",
    "- Filtre de mise en forme rectangulaire avec un upsampling de 8  \n",
    "- Bruit blanc gaussien de moyenne nulle et de variance 0.6  \n",
    " \n",
    "     \n",
    "</div>"
   ]
  },
  {
   "cell_type": "code",
   "execution_count": null,
   "metadata": {},
   "outputs": [],
   "source": []
  },
  {
   "cell_type": "markdown",
   "metadata": {},
   "source": [
    "<div class=\"alert alert-block alert-info bilan\">\n",
    "\n",
    "Affiche sur le même graphique le signal PAM4 et le signal bruité pour les 16 premiers symboles. Vous utiliserez des lignes pointillées avec des points pour le valeurs : `':o'`.\n",
    "  \n",
    "</div>"
   ]
  },
  {
   "cell_type": "code",
   "execution_count": null,
   "metadata": {},
   "outputs": [],
   "source": []
  },
  {
   "cell_type": "markdown",
   "metadata": {},
   "source": [
    "<div class=\"alert alert-block alert-info bilan\">\n",
    "\n",
    "### 2. Récepteur\n",
    "\n",
    "On utilise 3 types de récepteur pour comparer leur taux d'erreur binaire :  \n",
    "    \n",
    "    \n",
    "- **récepteur sans filtre** (downsampling, décision sur le symbole reçu et démapping)  \n",
    "- **récepteur avec filtre passe-bas classique** (ajout d'un filtre  passe-bas pour améliorer le rapport signal sur bruit)  \n",
    "- **récepteur avec filtre adapté** (ajout d'un filtre dit adapté correspondant à une corrélation   permettant de maximiser le rapport signal sur bruit aux instants de décisions)  \n",
    "    \n",
    "\n",
    "Si l'horloge du récepteur est configuré à la même fréquence que celle de l'émetteur, il existe en pratique un très léger écart en fréquence. De plus l'horloge du récepteur n'est pas synchronisé sur le signal reçu c'est à dire que si on prélève 1 échantillon par temps symbole, celui n'est pas forcément au à l'instant désiré et finit de toute façon par se décaler à cause de l'écart en fréquence entre l'horloge de l'émetteur et du récepteur.  \n",
    "    \n",
    "<br>    \n",
    "\n",
    "Pour résoudre ce problème dit de synchronisation symboles, on prélève N échantillons par temps symbole,  et un algorithme (Gardner ou Muller-Muller par exemple) permet de détecter, à chaque symbole,  quel échantillon parmi les N est au milieu du temps symbole.  \n",
    "    \n",
    "<br> \n",
    "    \n",
    "En simulation nous n'avons pas ce problème sauf dans le cas où nous utilisons un filtre qui introduit un retard par rapport aux échantillons émis. On décidera donc manuellement pour le premier symbole, quel échantillon retenir parmis les N lors de l'étape de downsampling.  \n",
    "    \n",
    "    \n",
    "### 2.1 Récepteur sans filtre\n",
    "\n",
    "A l'aide du module commNum, créer un récepteur sans filtre assurant :  \n",
    "    \n",
    "- le downsampling et en retenant l'échantillon au milieu du temps symbole  \n",
    "- la décision par calcul de distance  \n",
    "- le démapping  \n",
    "    \n",
    "\n",
    "Affiche sur le même graphique le signal reçu bruité et les échantillons retenus pour chaque symbole de modulation, pour les 16 premiers symboles. Vous utiliserez des lignes pointillées avec des points pour le valeurs : `':o'`.  \n",
    "    \n",
    "    \n",
    "</div>"
   ]
  },
  {
   "cell_type": "code",
   "execution_count": null,
   "metadata": {},
   "outputs": [],
   "source": []
  },
  {
   "cell_type": "markdown",
   "metadata": {},
   "source": [
    "<div class=\"alert alert-block alert-info bilan\">\n",
    "\n",
    "**Taux d'erreur**   \n",
    "    \n",
    "\n",
    "Afficher (print) les 16 premiers symboles émis et reçus et le taux d'erreur symbole (sur l'ensemble des symboles). De même, afficher les 16 premiers bits émis et reçus et le taux d'erreur binaire (1 chiffre après la virgule).  \n",
    "    \n",
    "<br> \n",
    "    \n",
    "On pourra utiliser la fonction `sum` pour le taux d'erreur en % comme illustré ci-dessous :  \n",
    "    \n",
    "`TE = (sum(0 + (symbs_trans - symbs_detect) !=0) / len(symbs_trans)) * 100`\n",
    "\n",
    "</div>"
   ]
  },
  {
   "cell_type": "code",
   "execution_count": null,
   "metadata": {},
   "outputs": [],
   "source": []
  },
  {
   "cell_type": "markdown",
   "metadata": {},
   "source": [
    "<div class=\"alert alert-block alert-info bilan\">\n",
    "\n",
    "### 2.2 Récepteur avec filtre passe-bas classique\n",
    "\n",
    "L'essentiel de la puissance du signal est concentré dans son premier lobe alors que la puissance du bruit est répartie sur toutes les fréquences (bruit blanc). Pour améliorer le rapport entre la puissance du signal et la puissance du bruit, on va filtrer le signal à son premier lobe conservant ainsi l'essentiel de la puissance du signal et seulement un tout petit peu de la puissance du bruit.\n",
    "\n",
    "<!-- Image dans le même répertoire ![emetteur N mod complexe](images/DSP bruit BB.png) -->\n",
    "\n",
    "<img src=\"https://lh3.googleusercontent.com/d/1jvmZzciXPnFJyvZLG533Mu0XWy6V73LT\" align=center width=\"500\">\n",
    "    \n",
    "1. On suppose que le débit binaire est de 2KBits/s. En déduire la rapidité des symboles de modulation compte tenu de la modulation utilisée et la fréquence d'échantillonnage compte tenu du facteur de upsampling.  \n",
    "    \n",
    "    \n",
    "2. Créer un filtre passe-bas (avec la méthode scipy.signal.butter) avec les caractéristiques suivante:\n",
    "- Ordre 3\n",
    "- Fréquence de coupure égale à la largeur du lobe principal   \n",
    "    \n",
    "    \n",
    "3. Filtrer le signal reçu avec ce filtre.  \n",
    "    \n",
    "\n",
    "4. Affiche le signal PAM4 émis et le signal bruité sur le même graphique. Afficher le signal filtré sur un second graphique. Vous utiliserez des lignes pointillées avec des points pour les valeurs : `':o'`.\n",
    " \n",
    "</div>"
   ]
  },
  {
   "cell_type": "code",
   "execution_count": null,
   "metadata": {},
   "outputs": [],
   "source": []
  },
  {
   "cell_type": "markdown",
   "metadata": {},
   "source": [
    "<div class=\"alert alert-block alert-info bilan\">\n",
    "\n",
    "**Réception avec synchronisation manuelle**\n",
    "\n",
    "Comme vous pouvez le voir sur la figure précédente, le filtre introduit un retard par rapport au signal à son entrée. Normalement un algortihme de synchronisation vient après le filtre, effectuer le downsampling en choisissant l'échantillon à chaque symbole qui permet de minimiser le taux d'erreur. \n",
    "    \n",
    "Ici nous le ferons de manière manuelle avec la méthode downsampling en choisissant le décalage qui donnera le plus faible taux d'erreur. \n",
    "    \n",
    "Effectuer le downsampling pour un décalage de 4 échantillons, la détection et le démapping\n",
    " \n",
    "</div>"
   ]
  },
  {
   "cell_type": "code",
   "execution_count": null,
   "metadata": {},
   "outputs": [],
   "source": []
  },
  {
   "cell_type": "markdown",
   "metadata": {},
   "source": [
    "<div class=\"alert alert-block alert-info bilan\">\n",
    "\n",
    "**Taux d'erreur**  \n",
    "    \n",
    "<br>    \n",
    "Afficher (print) les 16 premiers symboles émis et reçus et le taux d'erreur symbole (sur l'ensemble des symboles). De même afficher les 16 premiers bits émis et reçus et le taux d'erreur binaire (1 chiffre après la virgule).\n",
    "\n",
    "</div>"
   ]
  },
  {
   "cell_type": "code",
   "execution_count": null,
   "metadata": {},
   "outputs": [],
   "source": []
  },
  {
   "cell_type": "markdown",
   "metadata": {},
   "source": [
    "<div class=\"alert alert-block alert-info bilan\">\n",
    "\n",
    "**Impact de l'instant d'échantillonnage sur le taux d'erreur**\n",
    "    \n",
    "Relancer vos 2 cellules de codes précédentes pour voir le taux d'erreur si le décalage est successivement de 3 échantillons, puis 5 puis 6. Noter les résultats dans la cellule ci-dessous et conclure.\n",
    "\n",
    "</div>"
   ]
  },
  {
   "cell_type": "markdown",
   "metadata": {},
   "source": []
  },
  {
   "cell_type": "markdown",
   "metadata": {},
   "source": [
    "<div class=\"alert alert-block alert-info bilan\">\n",
    "\n",
    "### 2.3 Récepteur avec filtre adapté\n",
    "\n",
    "Pour ce récepteur on utilise un filtre adapté qui conste à faire un moyenne glissante (pour un filtre de mise en forme rectangulaire en émission) sur les n échantillons par symbole.  \n",
    "    \n",
    "<br/>\n",
    "\n",
    "Le module commNum dispose d'une méthode nommée `moy_glissante`pour effectuer le filtrage adapté dans le cas d'un filtre de mise en forme rectangulaire sur l'émetteur.  \n",
    "\n",
    "<br/>  \n",
    "    \n",
    "**Fonctionnement du corrélateur sur un signal non bruité**  \n",
    "    \n",
    "<br>\n",
    "Effectuer la réception en prenant comme signal reçu le signal émis (non bruité). Afficher pour les 16 premiers symboles le signal émis, le signal après le corrélateur et après downsampling sur le même graphique. Vous prendrez un décalage de 7 pour le dowsampling et vérifirez qu'il s'agit bien du bon échantillon devant être retenu pour chaque symbole de modulation.\n",
    "    \n",
    "</div>"
   ]
  },
  {
   "cell_type": "code",
   "execution_count": null,
   "metadata": {},
   "outputs": [],
   "source": []
  },
  {
   "cell_type": "markdown",
   "metadata": {},
   "source": [
    "<div class=\"alert alert-block alert-info bilan\">\n",
    "\n",
    "**Fonctionnement du filtre adapté avec le signal bruité**  \n",
    "    \n",
    "<br>\n",
    "Effectuer la réception avec signal bruité. Afficher pour les 16 premiers symboles : le signal émis, le signal après le corrélateur et après downsampling sur le même graphique.\n",
    "    \n",
    "</div>"
   ]
  },
  {
   "cell_type": "code",
   "execution_count": null,
   "metadata": {},
   "outputs": [],
   "source": []
  },
  {
   "cell_type": "markdown",
   "metadata": {},
   "source": [
    "<div class=\"alert alert-block alert-info bilan\">\n",
    "\n",
    "**Taux d'erreur avec le récepteur à corrélateur**   \n",
    "    \n",
    "<br>    \n",
    "Afficher (print) les 16 premiers symboles émis et reçus et le taux d'erreur symbole (sur l'ensemble des symboles). De même afficher les 16 premiers bits émis et reçus et le taux d'erreur binaire (1 chiffre après la virgule).\n",
    "\n",
    "</div>"
   ]
  },
  {
   "cell_type": "code",
   "execution_count": null,
   "metadata": {},
   "outputs": [],
   "source": []
  },
  {
   "cell_type": "markdown",
   "metadata": {},
   "source": [
    "<div class=\"alert alert-block alert-success\">\n",
    "        \n",
    "## II. Etude du récepteur à filtre adapté/corrélateur pour une modulation 16QAM\n",
    "    \n",
    "</div>"
   ]
  },
  {
   "cell_type": "markdown",
   "metadata": {},
   "source": [
    "<div class=\"alert alert-block alert-info bilan\">\n",
    "\n",
    "### 1. Rappels sur la réception sur fréquence avec filtre passe-bas pour une modulation 16QAM  \n",
    "    \n",
    "<br>    \n",
    "\n",
    "On rappelle ci-dessous le code Python pour simuler une transmission 16QAM dans un canal AWGN avec le module commNum.  Le filtre passe-bas au niveau du récepteur permet de filtrer les composantes spectrales à $-2.f_p$ après la donwconversion ainsi que le bruit.  \n",
    "    \n",
    "<br>  \n",
    "\n",
    "**Rappel sur le récepteur 16QAM à filtre passe-bas**   \n",
    "\n",
    "<br>   \n",
    "   \n",
    "Exécuter la cellule ci-dessous et la cellule suivante pour vous remémorer l'allure temporelle des signaux à différents endroits de la chaîne de transmission.  Le bruit est pour l'instant nul.  \n",
    "\n",
    "</div>"
   ]
  },
  {
   "cell_type": "code",
   "execution_count": 263,
   "metadata": {},
   "outputs": [],
   "source": [
    "###############################################\n",
    "#### Caractéristiques de la transmission #####\n",
    "###############################################\n",
    "#Emetteur\n",
    "D = 400\n",
    "nsymb = 16\n",
    "bits_per_symp = int(np.log2(nsymb))\n",
    "tb = 1/D\n",
    "fe = 10000\n",
    "te = 1/fe\n",
    "ts = bits_per_symp*tb\n",
    "R = 1/ts\n",
    "fp = 500\n",
    "upsampling = int(fe/R)\n",
    "#Canal\n",
    "mean = 0\n",
    "std = 1.2\n",
    "#Récepteur\n",
    "downsample_factor = upsampling\n",
    "\n",
    "###############################################\n",
    "##########          Emetteur         ##########\n",
    "###############################################\n",
    "#Source\n",
    "mydata = Source()\n",
    "bits = mydata.random(5000)\n",
    "#Création et initialisation des paramètres du modem (création de l'objet)\n",
    "QAM_mod = Modem('QAM', 16 , bits)\n",
    "#Mapping\n",
    "symbs_QAM=QAM_mod.mapping(3)\n",
    "#Filtre de mise en forme rectangulaire\n",
    "bb_QAM = QAM_mod.filtre_MF(symbs_QAM, upsampling, 'rectangular')\n",
    "#Translation de fréquence upconversion\n",
    "sig_QAM = QAM_mod.upconv(bb_QAM, fp, te)\n",
    "\n",
    "###############################################\n",
    "##########          Canal AWGN       ##########\n",
    "###############################################\n",
    "mycanal = Canal()\n",
    "QAM_bruite = mycanal.awgn(sig_QAM, mean, std)\n",
    "\n",
    "##########################################################\n",
    "##########  Récepteur à filtre passe-bas classique  ######\n",
    "##########################################################\n",
    "#Translation de fréquence downconversion\n",
    "down1_QAM1 = QAM_mod.downconv(QAM_bruite, fp, te)\n",
    "#Filtrage à fp\n",
    "ordre=5\n",
    "fcn=fp/(fe/2)\n",
    "b, a = scipy.signal.butter(ordre, fcn, btype='low')\n",
    "down2_QAM1=2*scipy.signal.lfilter(b, a, down1_QAM1)\n",
    "#Downsampling\n",
    "decalage1 = 65\n",
    "symbs_rcv1 = QAM_mod.downsample(down2_QAM1, downsample_factor, decalage1)\n",
    "#Détection\n",
    "symbs_detect1 = QAM_mod.detection(symbs_rcv1)\n",
    "#Démapping\n",
    "bits_rcv1 = QAM_mod.demapping(symbs_detect1)"
   ]
  },
  {
   "cell_type": "code",
   "execution_count": null,
   "metadata": {},
   "outputs": [],
   "source": [
    "#Affichage du signal reçu et du signal filtré\n",
    "nsymb_aff = 16\n",
    "fig, ax = plt.subplots(2,1, figsize = (15, 10))\n",
    "ax[0].plot(QAM_bruite[0:nsymb_aff*upsampling])\n",
    "ax[0].grid()\n",
    "ax[0].set_title(\"Signal modulé 16QAM\", fontsize = 16)\n",
    "ax[1].plot(np.real(down2_QAM1[0:nsymb_aff*upsampling]), ':o')\n",
    "ax[1].plot(np.imag(down2_QAM1[0:nsymb_aff*upsampling]), ':o')\n",
    "ax[1].set_title(\"Partie réelle et imaginaire des symboles de modulation obtenus \\naprès \\\n",
    " donwconversion et filtrage passe-bas et échantillon retenu à chaque symbole\", fontsize = 16)\n",
    "num_ech = np.arange(decalage, len(down2_QAM1[0:nsymb_aff*upsampling]), upsampling)\n",
    "ax[1].plot(num_ech, np.real(symbs_rcv1[0:nsymb_aff]), 'o', mew=4)\n",
    "ax[1].plot(num_ech, np.imag(symbs_rcv1[0:nsymb_aff]), 'o', mew=4)\n",
    "ax[1].grid()\n",
    "plt.tight_layout()"
   ]
  },
  {
   "cell_type": "markdown",
   "metadata": {},
   "source": [
    "<div class=\"alert alert-block alert-info bilan\">\n",
    "\n",
    "### 2. Remplacement du filtre passe-bas par un filtre adapté  \n",
    "    \n",
    "<br>\n",
    "    \n",
    "On souhaite remplacer le filtre passe-bas au niveau du récepteur par un filtre adapté pour améliorer le taux d'erreur. Reprendre le code du récepteur en remplaçant le filtre passe-bas par un filtre adapté c'est à dire un simple moyenne glissante dans le cas d'un filtre de mise en forme rectangulaire.  \n",
    "    \n",
    "<br>\n",
    "    \n",
    "Afficher la partie réelle et imaginaires et symboles de modulation et des échantillons retenus à chaque symbole (vous prendrez un décalage de `downsample_factor-1`).\n",
    "\n",
    "</div>"
   ]
  },
  {
   "cell_type": "code",
   "execution_count": null,
   "metadata": {},
   "outputs": [],
   "source": []
  },
  {
   "cell_type": "code",
   "execution_count": null,
   "metadata": {},
   "outputs": [],
   "source": []
  },
  {
   "cell_type": "markdown",
   "metadata": {},
   "source": [
    "<div class=\"alert alert-block alert-info bilan\">\n",
    "\n",
    "**Impact du bruit blanc gaussien sur les signaux**\n",
    "\n",
    "Relancer les cellules précédente mais pour un bruit blanc gaussien avec une variance de 1.2 et visualiser les signaux pour le récepteur avec filtre passe-bas et filtre adapté.\n",
    "\n",
    "</div>"
   ]
  },
  {
   "cell_type": "markdown",
   "metadata": {},
   "source": [
    "<div class=\"alert alert-block alert-info bilan\">\n",
    "\n",
    "### 3. Comparaison des taux d'erreur\n",
    "\n",
    "Calculer les taux d'erreur symboles pour les 2 récepteurs et conclure sur le filtrage adapté.\n",
    "\n",
    "</div>"
   ]
  },
  {
   "cell_type": "code",
   "execution_count": null,
   "metadata": {},
   "outputs": [],
   "source": []
  },
  {
   "cell_type": "code",
   "execution_count": null,
   "metadata": {},
   "outputs": [],
   "source": []
  }
 ],
 "metadata": {
  "kernelspec": {
   "display_name": "Python 3 (ipykernel)",
   "language": "python",
   "name": "python3"
  },
  "language_info": {
   "codemirror_mode": {
    "name": "ipython",
    "version": 3
   },
   "file_extension": ".py",
   "mimetype": "text/x-python",
   "name": "python",
   "nbconvert_exporter": "python",
   "pygments_lexer": "ipython3",
   "version": "3.11.4"
  }
 },
 "nbformat": 4,
 "nbformat_minor": 4
}
