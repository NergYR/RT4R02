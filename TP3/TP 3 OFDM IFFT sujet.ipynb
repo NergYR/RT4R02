{
 "cells": [
  {
   "cell_type": "markdown",
   "metadata": {},
   "source": [
    "# <center> TP n°3 - Transmission OFDM à IFFT/FFT</center>\n",
    "\n",
    "<!-- Image dans le même répertoire ![emetteur N mod complexe](images/image_notebook.png) -->\n",
    "\n",
    "<img src=\"https://lh3.googleusercontent.com/d/1lRRAjt4RNj0H38nlSAcgGJCLyddyy09G\" align=center width=\"600\"> \n",
    "\n",
    "### **Objectifs du TP**\n",
    "Comme on l'a démontré dans le cours, on peut calculer l'enveloppe complexe du signal OFDM $x_{EC-OFDM}(k)$ à partir des symboles de modulations $s_{in}=a_{in}.e^{j.\\varphi_{in}}$ associés aux N sous-porteuses pendant un intervalle de temps  $i.T_S< t <(i+1).T_S$ grâce à une iFFT : \n",
    "\n",
    "$x_{EC-OFDMi}(k) = \\displaystyle \\sum_{n=0}^{N-1} s_{in}.e^{ j.2\\pi.n.\\frac{k}{N}} = iFFT(s_{in})$  \n",
    "\n",
    "\n",
    "Dans ce TP on travaille donc sur la mise en oeuvre d'une chaîne de transmission OFDM à iFFT/FFT, avec 16 sous-porteuses, toutes les sous-porteuses utilisant une modulation QPSK."
   ]
  },
  {
   "cell_type": "markdown",
   "metadata": {},
   "source": [
    "### Import des modules"
   ]
  },
  {
   "cell_type": "code",
   "execution_count": 3,
   "metadata": {},
   "outputs": [],
   "source": [
    "from commNumv4 import *\n",
    "import numpy as np\n",
    "import matplotlib.pyplot as plt\n",
    "import scipy.signal\n",
    "import importlib"
   ]
  },
  {
   "cell_type": "markdown",
   "metadata": {},
   "source": [
    "<div class=\"alert alert-block alert-info\">\n",
    "\n",
    "## I. Emetteur OFDM à iFFT\n",
    "\n",
    "### 1. Principe de l'architecture de l'émetteur à réaliser\n",
    "    \n",
    "    \n",
    "L'architecture de l'émetteur OFDM à iFFT et les structures de données Python à réaliser sont illustrées ci-dessous (pour 4 sous-porteuses pour simplifier le schéma mais vous utiliserez 16 sous-porteuses dans votre code):  \n",
    "\n",
    "\n",
    "![emetteur OFDM iFFT](images/emetteur_ifft_fp.png)\n",
    "\n",
    "L'émetteur comprend les élements suivants :  \n",
    "- **Conversion série parallèle** avec la fonction numpy `reshape` pour avoir les symboles numériques. On obtient une matrice à 3 dimensions (nombre de symbole OFDM, nombre de sous-porteuses, nombre de bits par symbole)\n",
    "- **Mapping** pour passer des symboles numériques aux symboles de modulation. On obtient une matrice avec sur chaque ligne l'ensemble des symboles de modulations des sous-porteuses associés à un symbole OFDM. Vous pouvez utiliser la méthode `mapping` de la classe `Ofdm`.\n",
    "- **zéros padding** qui consiste à insérer des zéros au milieu des symboles de modulation pour augmenter la fréquence d'échantillonnage ici d'un facteur 2 (autant de zéros que de symboles de modulation). Vous pouvez utiliser la méthode `zero_pad` de la classe `Ofdm`.\n",
    "- **upsampling** permet d'augmenter la fréquence d'échantillonnage du signal pour avoir une fréquence d'échantillonnage suffisante pour la multiplication avec l'exponentielle complexe à la fréquence porteuse de 20KHz . On fera un upsampling d'un facteur 10. Vous utiliserez la fonction `resampled_poly(signal, up, down )`  de scipy qui permet de modifier la fréquence d'échantillonnage d'un facteur $\\displaystyle \\frac{up}{down}$    \n",
    "- **FFT** sur chaque ligne de la matrice avec 1 symbole OFDM par ligne pour obtenir l'enveloppe complexe du signal OFDM en parallèle (soit une matrice avec 1 symbole OFDM correspondant à 32 échantillons par ligne)\n",
    "- **Conversion  parallèle/série** pour avoir l'enveloppe complexe du signal OFDM.\n",
    "- **upconversion** pour translater l'enveloppe complexe et obtenir le signal OFDM. Vous pouvez utiliser la fonction `upconv` de la classe `Ofdm`.  \n",
    "\n",
    "L'aide sur chaque fonction de la classe `Ofdm` vous permettra de voir son fonctionnement.\n",
    " \n",
    "\n",
    "</div>"
   ]
  },
  {
   "cell_type": "markdown",
   "metadata": {},
   "source": [
    "<div class=\"alert alert-block alert-info bilan\">\n",
    "\n",
    "### 2. Implémentation Python\n",
    "\n",
    "On souhaite faire une transmission OFDM avec : \n",
    "- 16 sous-porteuses\n",
    "- Une rapidité de modulation R=1000 symboles/s\n",
    "- Une modulation QPSK pour toutes les sous-porteuses (1+j, ...) \n",
    "- 1000 symboles OFDM transmis\n",
    "- Une fréquence porteuse $f_p=20KHz$\n",
    "\n",
    "Compléter la cellule de code ci-dessous comprenant les paramètres de la transmission et le code de l'émetteur en vous inspirant du schéma ci-dessus (on prendra le même nommage que sur le schéma).\n"
   ]
  },
  {
   "cell_type": "code",
   "execution_count": 73,
   "metadata": {},
   "outputs": [],
   "source": [
    "###############################################\n",
    "#### Caractéristiques de la transmission #####\n",
    "###############################################\n",
    "\n",
    "# Rapidité de modulation et temps symbole\n",
    "\n",
    "\n",
    "# Nombre de sous-porteuses\n",
    "\n",
    "# Table de mapping QPSK\n",
    "\n",
    "\n",
    "\n",
    "\n",
    "# Nombre de symboles de la constellation\n",
    "\n",
    "# Nombre de bits par symbole\n",
    "\n",
    "# Nombre de bits par symbole OFDM\n",
    "\n",
    "# Nombre de symbole OFDM\n",
    "\n",
    "# Nombre de bits à générer\n",
    "\n",
    "#fréquence porteuse\n",
    "\n",
    "\n",
    "#####################################################################################\n",
    "####                        Emetteur  et canal AWGN                              ####\n",
    "#####################################################################################\n",
    "\n",
    "#Génération des bits sous forme d'un vecteur\n",
    "\n",
    "\n",
    "#Génération des symboles numériques sous forme d'une matrice (nombre de symboles OFDM, nombre de sous-porteuses, nombre de bits par symbole de modulation)\n",
    "\n",
    "\n",
    "#Génération des symboles OFDM associées à partir des symboles numériques sous forme d'une matrice (nombre de symboles OFDM, nombres de sous-porteuses)\n",
    "\n",
    "\n",
    "#Zero padding pour augmenter la fréquence d'échantillonnage d'un facteur 2\n",
    "\n",
    "\n",
    "# Génération de l'enveloppe complexe du signal OFDM à iFFT sous forme d'une matrice \n",
    "\n",
    "\n",
    "#Convertion parallèle-série = mis à plat de la matrice avec la fonction numpy ravel\n",
    "\n",
    "\n",
    "# Upsampling\n",
    "\n",
    "\n",
    "\n",
    "# Fréquence d'échantillonnage et upconversion\n",
    "\n"
   ]
  },
  {
   "cell_type": "markdown",
   "metadata": {},
   "source": [
    "<div class=\"alert alert-block alert-info bilan\">\n",
    "\n",
    "### 3. Vérification et analyse\n",
    "\n",
    "#### 3.1. Bits, symboles numériques, symboles de modulation et zéro padding\n",
    "\n",
    "1. Afficher les 32 premiers bits et symboles numériques émis.  \n",
    "<br>\n",
    "\n",
    "2. Afficher (dans la même cellule) les 16 premiers symboles numériques émis.  \n",
    "<br>\n",
    " \n",
    "3. Afficher les 16 premiers symboles de modulation correpsondant au premier symbole OFDM.  \n",
    "<br>\n",
    "\n",
    "4. Afficher les 16 premiers symboles de modulation après 0 padding.  \n",
    "<br>\n",
    "5. Sachant qu'il y a 16 échantillons (16 symboles de modulation)par temps symbole, en déduire la fréquence d'échantillonnage avant zero-padding.  \n",
    "<br>\n",
    "6. Sachant qu'il y a 32 échantillons (16 symboles de modulation et 16 zéros) par temps symbole, en déduire la fréquence d'échantillonnage en sortie du bloc zero-padding.  \n",
    "\n",
    "</div>"
   ]
  },
  {
   "cell_type": "code",
   "execution_count": null,
   "metadata": {},
   "outputs": [],
   "source": []
  },
  {
   "cell_type": "markdown",
   "metadata": {},
   "source": [
    "<div class=\"alert alert-block alert-danger travail\">\n",
    "        \n",
    "**Réponses aux questions 5 et 6**:\n",
    "\n",
    "\n",
    "</div>"
   ]
  },
  {
   "cell_type": "markdown",
   "metadata": {},
   "source": [
    "<div class=\"alert alert-block alert-info bilan\">\n",
    "\n",
    "#### 3.2. DSP de l'enveloppe complexe OFDM\n",
    "\n",
    "  \n",
    "On souhaite visualiser la DSP de l'enveloppe complexe du signal OFDM sans et avec zéro padding et la DSP du signal OFDM.  \n",
    "\n",
    "\n",
    "1. Dans une nouvelle cellule de code, calculer l'enveloppe complexe du signal OFDM sans zero padding (ifft et mise à plat avec la fonction ravel()).  \n",
    "<br>\n",
    "\n",
    "2. A l'aide de la méthode statique dsp de la classe Mesure, visualiser la DSP de l'enveloppe complexe sans et avec zero padding et la DSP du signal OFDM. Vous commencerez par calculer les fréquences d'échantillonnage pour l'enveloppe complexe sans et avec zero padding.  \n",
    "<br>\n",
    "\n",
    "3. Commenter les résultats.\n",
    "\n",
    "</div>"
   ]
  },
  {
   "cell_type": "code",
   "execution_count": null,
   "metadata": {},
   "outputs": [],
   "source": []
  },
  {
   "cell_type": "markdown",
   "metadata": {},
   "source": [
    "<div class=\"alert alert-block alert-danger travail\">\n",
    "\n",
    "**Commentaires sur les résultats**\n",
    "\n",
    "\n",
    "    \n",
    " </div>"
   ]
  },
  {
   "cell_type": "markdown",
   "metadata": {},
   "source": [
    "<div class=\"alert alert-block alert-info bilan\">\n",
    "\n",
    "#### 3.2. Allure temporelle du signal OFDM\n",
    "\n",
    "  \n",
    "Visualiser l'allure temporelle du signal OFDM sur 5 temps symboles (soit 5ms).  \n",
    "\n",
    "<div>"
   ]
  },
  {
   "cell_type": "code",
   "execution_count": null,
   "metadata": {},
   "outputs": [],
   "source": []
  },
  {
   "cell_type": "markdown",
   "metadata": {},
   "source": [
    "\n",
    "<div class=\"alert alert-block alert-success\">\n",
    "        \n",
    "## II. Canal AWGN et récepteur OFDM à FFT\n",
    "\n",
    "### 1. Canal AWGN\n",
    "    \n",
    "Pour simuler un canal AWGN, rajouter un bruit blanc gaussien d'espérance nulle et d'écart type 0.05. Vous pouvez utiliser la classe Canal.  \n",
    "    \n",
    "</div>"
   ]
  },
  {
   "cell_type": "code",
   "execution_count": 1,
   "metadata": {},
   "outputs": [],
   "source": [
    "#####################################################################################\n",
    "####                               Canal AWGN                                    ####\n",
    "#####################################################################################\n"
   ]
  },
  {
   "cell_type": "markdown",
   "metadata": {},
   "source": [
    "<div class=\"alert alert-block alert-info bilan\">\n",
    "\n",
    "### 2. Principe de l'architecture du récepteur à réaliser\n",
    "    \n",
    "L'architecture du récepteur OFDM à FFT (pour 4 sous-porteuses) est illustré ci-dessous : \n",
    "    \n",
    "<br>\n",
    "\n",
    "![emetteur OFDM iFFT](images/recepteur_ifft_fp.png)\n",
    "\n",
    "Le récepteur comprend les élements suivants qui implémentent globalement les fonctions inverses de l'émetteur :\n",
    "- **Downconversion** pour translater le signal OFDM en bande de base et retrouver l'enveloppe complexe. Vous pouvez utiliser la fonction `downconv_filt` de la classe `Ofdm` qui translate de filtre passe-bas pour enlever à la composante spectrale à $-2.f_P$.\n",
    "- **Downsampling** pour avoir 32 échantillons par symbole OFDM. Comme on avait upsampler d'un facteur 10 en émission, il faudra downsampler du même facteur. Vous pouvez utiliser la fonction `resampled_poly`  de scipy.\n",
    "- **Conversion série / parallèle** pour avoir une matrice avec 1 symbole OFDM par ligne soit ici 32 échantillons par ligne.\n",
    "- **FFT** sur chaque ligne pour retrouver les symboles de modulation : 16 symboles de modulation associés aux sous-porteuses et 16 zéros (soit 32 échantillons comme en entrée de la FFT)\n",
    "- **Suppression des zéros** pour ne garder que les 16 symboles de modulation des sous-porteuses. Vous pouvez utiliser la méthode `rem_zero_pad` de la classe `Ofdm`.\n",
    "- **Conversion parallèle série** pour retrouver les symboles de modulation en série \n",
    "- **Détection** en faisant un calcul de distance avec la fonction min pour décider du symbole le plus probablement émis. Vous pouvez utiliser la méthode `detection` de la classe `Ofdm`.\n",
    "- **Démapping** pour repasser des symboles de modulation aux bits. Vous pouvez utiliser la méthode `demapping` de la classe `Ofdm`.\n",
    "\n",
    "L'aide sur chaque fonction de la classe `Ofdm` vous permettra de voir le fonctionnement de chaque fonction.\n",
    "\n",
    "**Remarque** : La FFT doit être prise sur chaque symbole OFDM de l'enveloppe complexe comme illustré ci-dessous :\n",
    "\n",
    "![FFT OK](images/ec_rcv_fft_ok.png)\n",
    "\n",
    "Si le récepteur introduit un décalage/retard, les FFT ne seront pas prises sur les bons échantillons et les symboles reçus seront totalement faux :\n",
    "\n",
    "![FFT OK](images/ec_rcv_fft_nok.png)\n",
    "\n",
    " \n",
    " La fonction utilisée pour filtrer dans la downconversion est donc `filtfilt` qui n'introduit pas de retard.\n",
    "\n",
    "</div>"
   ]
  },
  {
   "cell_type": "markdown",
   "metadata": {},
   "source": [
    "<div class=\"alert alert-block alert-info bilan\">\n",
    "\n",
    "### 3. Implémentation Python\n",
    "\n",
    "Compléter la cellule de code commentée ci-dessous pour réaliser le récepteur."
   ]
  },
  {
   "cell_type": "code",
   "execution_count": 78,
   "metadata": {},
   "outputs": [],
   "source": [
    "#####################################################################################\n",
    "####                                Récepteur                                    ####\n",
    "#####################################################################################\n",
    "\n",
    "# Downconversion et filtrage pour obtenir l'enveloppe complexe reçue\n",
    "\n",
    "\n",
    "\n",
    "# Downsampling\n",
    "\n",
    "\n",
    "\n",
    "# Conversion série parallèle pour pouvoir faire un FFT sur chaque groupe de 32 symboles (16 symboles de modulations des sous-porteuses et 16 zéros)\n",
    "\n",
    "\n",
    "# Passage de l'enveloppe complexe aux symboles de modulation avec une FFT\n",
    "\n",
    "\n",
    "# Suppression du zéro padding\n",
    "\n",
    "\n",
    "# Conversion parallèle série : mise à plat de la matrice\n",
    "\n",
    "\n",
    "# Détection\n",
    "\n",
    "\n",
    "# Demapping\n",
    "\n"
   ]
  },
  {
   "cell_type": "markdown",
   "metadata": {},
   "source": [
    "<div class=\"alert alert-block alert-info bilan\">\n",
    "\n",
    "### 4. Vérification et analyse\n",
    "\n",
    "#### 4.1. Bits émis et reçus\n",
    "\n",
    "Vérifier que les 32 premiers bits émis et reçus sont les mêmes."
   ]
  },
  {
   "cell_type": "code",
   "execution_count": null,
   "metadata": {},
   "outputs": [],
   "source": []
  },
  {
   "cell_type": "markdown",
   "metadata": {},
   "source": [
    "#### 4.2. Enveloppe complexe reçue\n",
    "\n",
    "Visualiser l'enveloppe complexe reçue avant downsampling (partie réelle et imaginaire sur le même graphique) et sa DSP."
   ]
  },
  {
   "cell_type": "code",
   "execution_count": null,
   "metadata": {},
   "outputs": [],
   "source": []
  },
  {
   "cell_type": "markdown",
   "metadata": {},
   "source": [
    "<div class=\"alert alert-block alert-info bilan\">\n",
    "\n",
    "#### 4.3. Diagramme de constallation des sous-porteuses\n",
    "\n",
    "La fonction `symbs_ofdm_to_sp` de la classe `Ofdm` permet de récuperer les symboles de modulation de chaque sous-porteuse sur une même ligne. Elle prend en entrée la matrice avec un symbole OFDM par ligne (`symbs_rcv_para` dans la chaîne de réception de dimension (1000,16)) et retourne un tableau avec l'ensemble des symboles de modulation d'un sous-porteuse sur une même ligne (on aura ici une matrice de dimension (16, 1000)). Cette fonction nous permettra alors de tracer le diagramme de constellation des sous-porteuses avec la fonction `plot_constel_sp`.  \n",
    "    \n",
    "    \n",
    "1. A l'aide de ces 2 fonctions de la classe `Ofdm`, visualiser le diagramme de constellation des sous-porteuses.  \n",
    "<br>\n",
    "    \n",
    "2. Commenter le résultat obtenu et conclure sur l'intérêt de l'émetteur/récepteur OFDM à iFFT/FFT par rapport à celui à N modulateurs/démodulateurs complexes.\n",
    "  \n",
    "</div>"
   ]
  },
  {
   "cell_type": "code",
   "execution_count": null,
   "metadata": {},
   "outputs": [],
   "source": []
  },
  {
   "cell_type": "markdown",
   "metadata": {},
   "source": [
    "**Commentaires**\n",
    "\n"
   ]
  }
 ],
 "metadata": {
  "kernelspec": {
   "display_name": "Python 3 (ipykernel)",
   "language": "python",
   "name": "python3"
  },
  "language_info": {
   "codemirror_mode": {
    "name": "ipython",
    "version": 3
   },
   "file_extension": ".py",
   "mimetype": "text/x-python",
   "name": "python",
   "nbconvert_exporter": "python",
   "pygments_lexer": "ipython3",
   "version": "3.1.-1"
  }
 },
 "nbformat": 4,
 "nbformat_minor": 4
}
